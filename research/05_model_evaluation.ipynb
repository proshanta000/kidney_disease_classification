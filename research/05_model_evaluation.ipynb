{
 "cells": [
  {
   "cell_type": "code",
   "execution_count": 1,
   "id": "cd217520",
   "metadata": {},
   "outputs": [],
   "source": [
    "import os"
   ]
  },
  {
   "cell_type": "code",
   "execution_count": 2,
   "metadata": {},
   "outputs": [
    {
     "data": {
      "text/plain": [
       "'d:\\\\Data_science\\\\Projects\\\\kidney_disease_classification\\\\research'"
      ]
     },
     "execution_count": 2,
     "metadata": {},
     "output_type": "execute_result"
    }
   ],
   "source": [
    "%pwd"
   ]
  },
  {
   "cell_type": "code",
   "execution_count": 3,
   "id": "c9f5fb8a",
   "metadata": {},
   "outputs": [],
   "source": [
    "os.chdir(\"../\")"
   ]
  },
  {
   "cell_type": "code",
   "execution_count": 4,
   "id": "c14af82a",
   "metadata": {},
   "outputs": [
    {
     "data": {
      "text/plain": [
       "'d:\\\\Data_science\\\\Projects\\\\kidney_disease_classification'"
      ]
     },
     "execution_count": 4,
     "metadata": {},
     "output_type": "execute_result"
    }
   ],
   "source": [
    "%pwd"
   ]
  },
  {
   "cell_type": "code",
   "execution_count": 5,
   "id": "863ba8fb",
   "metadata": {},
   "outputs": [],
   "source": [
    "os.environ[\"MLFLOW_TRACKING_URI\"]=\"https://dagshub.com/proshanta000/kidney_disease_classification.mlflow\"\n",
    "os.environ[\"MLFLOW_TRACKING_USERNAME\"]=\"proshanta000\"\n",
    "os.environ[\"MLFLOW_TRACKING_PASSWORD\"]=\"1d2afccec4c7566b7e8d9ed3f00a41e1e86ae8fd\""
   ]
  },
  {
   "cell_type": "code",
   "execution_count": 6,
   "metadata": {},
   "outputs": [],
   "source": [
    "from dataclasses import dataclass\n",
    "from pathlib import Path\n",
    "from typing import Dict, Any\n",
    "\n",
    "\n",
    "@dataclass(frozen=True)\n",
    "class EvaluationConfig:\n",
    "    \"\"\"\n",
    "    Configuration for the model evaluation stage.\n",
    "    \"\"\"\n",
    "    path_of_model: Path  # Path to the trained model to be evaluated\n",
    "    validation_data: Path  # Path to the validation dataset\n",
    "    mlflow_uri: str  # MLflow tracking server URI\n",
    "    all_params: dict  # A dictionary containing all project parameters for logging\n",
    "    params_image_size: list  # Image dimensions for evaluation\n",
    "    params_batch_size: int  # Batch size for evaluation"
   ]
  },
  {
   "cell_type": "code",
   "execution_count": 7,
   "metadata": {},
   "outputs": [],
   "source": [
    "import os\n",
    "from pathlib import Path\n",
    "from KidneyCNN.constants import *\n",
    "from KidneyCNN.utils.common import (read_yaml, create_directories, save_json)\n",
    "\n",
    "\n",
    "# This class manages the configuration settings for the entire project pipeline.\n",
    "# It reads settings from 'config.yaml' and 'params.yaml' and provides them\n",
    "# to each pipeline stage in a structured format.\n",
    "class ConfigurationManager:\n",
    "    def __init__(\n",
    "        self,\n",
    "        config_filepath = CONFIG_FILE_PATH,\n",
    "        params_filepath = PARAMS_FILE_PATH):\n",
    "        \"\"\"\n",
    "        Initializes the ConfigurationManager by loading configuration and\n",
    "        parameters from YAML files.\n",
    "        \"\"\"\n",
    "        # Load the main configuration file\n",
    "        self.config = read_yaml(config_filepath)\n",
    "        # Load the model hyperparameters\n",
    "        self.params = read_yaml(params_filepath)\n",
    "\n",
    "        # Create the root artifacts directory if it doesn't exist\n",
    "        create_directories([self.config.artifacts_root])\n",
    "\n",
    "    \n",
    "    \n",
    "\n",
    "    def get_evalution_config(self) -> EvaluationConfig:\n",
    "        \"\"\"\n",
    "        Provides the configuration for the model evaluation stage.\n",
    "        \"\"\"\n",
    "        # Define the path to the validation data directory\n",
    "        validation_data = os.path.join(self.config.data_transformation.data_split_dir,  \"val\")\n",
    "        \n",
    "        # Create an EvaluationConfig object with the relevant settings\n",
    "        eval_config = EvaluationConfig(\n",
    "            path_of_model=\"artifacts/training/model.h5\", # Path to the trained model\n",
    "            validation_data=Path(validation_data), # Path to the validation data\n",
    "            mlflow_uri=\"https://dagshub.com/proshanta000/kidney_disease_classification.mlflow\", # MLflow tracking URI\n",
    "            all_params= self.params, # All model parameters for logging to MLflow\n",
    "            params_image_size= self.params.IMAGE_SIZE, # Image size for evaluation\n",
    "            params_batch_size= self.params.BATCH_SIZE # Batch size for evaluation\n",
    "        )\n",
    "        return eval_config"
   ]
  },
  {
   "cell_type": "code",
   "execution_count": 8,
   "id": "ad9e6f8b",
   "metadata": {},
   "outputs": [],
   "source": [
    "import tensorflow as tf\n",
    "from pathlib import Path\n",
    "import mlflow\n",
    "import mlflow.keras\n",
    "from urllib.parse import urlparse\n",
    "import json"
   ]
  },
  {
   "cell_type": "code",
   "execution_count": 9,
   "id": "f19f43ba",
   "metadata": {},
   "outputs": [],
   "source": [
    "class Evalution:\n",
    "    def __init__(self, config: EvaluationConfig):\n",
    "        self.config = config\n",
    "\n",
    "    def _valid_generator(self):\n",
    "        # We assume the data is already pre-split into train/valid directories.\n",
    "        # Therefore, we do not need the validation_split parameter.\n",
    "        datagenerator_kwargs = dict(\n",
    "            rescale=1. / 255\n",
    "        )\n",
    "        dataflow_kwargs = dict(\n",
    "            target_size=self.config.params_image_size[:-1],\n",
    "            batch_size=self.config.params_batch_size,\n",
    "            interpolation=\"bilinear\"\n",
    "        )\n",
    "        valid_datagenerator = tf.keras.preprocessing.image.ImageDataGenerator(\n",
    "            **datagenerator_kwargs\n",
    "        )\n",
    "        self.valid_generator = valid_datagenerator.flow_from_directory(\n",
    "            directory=self.config.validation_data,\n",
    "            shuffle=False,\n",
    "            **dataflow_kwargs\n",
    "        )\n",
    "\n",
    "    @staticmethod\n",
    "    def load_model(path: Path) -> tf.keras.Model:\n",
    "        return tf.keras.models.load_model(path)\n",
    "\n",
    "    def evaluation(self):\n",
    "        self.model = self.load_model(self.config.path_of_model)\n",
    "        self._valid_generator()\n",
    "        self.score = self.model.evaluate(self.valid_generator)\n",
    "        self.save_score()\n",
    "\n",
    "    def save_score(self):\n",
    "        score = {\"loss\": self.score[0], \"accuracy\": self.score[1]}\n",
    "        save_json(path=Path(\"scores.json\"), data=score)\n",
    "\n",
    "    def log_into_mlflow(self):\n",
    "        mlflow.set_registry_uri(self.config.mlflow_uri)\n",
    "        tracking_url_type_store = urlparse(mlflow.get_tracking_uri()).scheme\n",
    "\n",
    "        with mlflow.start_run():\n",
    "            # Log all parameters, including nested ones\n",
    "            mlflow.log_params(self.config.all_params)\n",
    "\n",
    "            # Log each metric individually\n",
    "            mlflow.log_metric(\n",
    "                key=\"loss\",\n",
    "                value=self.score[0]\n",
    "            )\n",
    "            mlflow.log_metric(\n",
    "                key=\"accuracy\",\n",
    "                value=self.score[1]\n",
    "            )\n",
    "\n",
    "            # Model registry does not work with file store\n",
    "            if tracking_url_type_store != \"file\":\n",
    "                mlflow.keras.log_model(self.model, \"model\",\n",
    "                                       registered_model_name=\"VGG16Model\")\n",
    "            else:\n",
    "                mlflow.keras.log_model(self.model, \"model\")"
   ]
  },
  {
   "cell_type": "code",
   "execution_count": 10,
   "id": "f3e61ffb",
   "metadata": {},
   "outputs": [
    {
     "name": "stdout",
     "output_type": "stream",
     "text": [
      "[2025-10-05 01:36:52,977: INFO: common: yaml file: config\\config.yaml loaded successfully]\n",
      "[2025-10-05 01:36:52,984: INFO: common: yaml file: params.yaml loaded successfully]\n",
      "[2025-10-05 01:36:52,989: INFO: common: created directory at: artifacts]\n",
      "Found 900 images belonging to 4 classes.\n",
      "57/57 [==============================] - 199s 3s/step - loss: 12.8280 - accuracy: 0.6144\n",
      "[2025-10-05 01:40:13,069: INFO: common: json file saved at: scores.json]\n"
     ]
    },
    {
     "name": "stderr",
     "output_type": "stream",
     "text": [
      "2025/10/05 01:40:15 WARNING mlflow.tensorflow: You are saving a TensorFlow Core model or Keras model without a signature. Inference with mlflow.pyfunc.spark_udf() will not work unless the model's pyfunc representation accepts pandas DataFrames as inference inputs.\n"
     ]
    },
    {
     "name": "stdout",
     "output_type": "stream",
     "text": [
      "[2025-10-05 01:40:17,466: WARNING: save: Found untraced functions such as _jit_compiled_convolution_op, _jit_compiled_convolution_op, _jit_compiled_convolution_op, _jit_compiled_convolution_op, _jit_compiled_convolution_op while saving (showing 5 of 14). These functions will not be directly callable after loading.]\n",
      "[2025-10-05 01:40:18,259: INFO: builder_impl: Assets written to: C:\\Users\\prosh\\AppData\\Local\\Temp\\tmp2wh3vr28\\model\\data\\model\\assets]\n"
     ]
    },
    {
     "name": "stderr",
     "output_type": "stream",
     "text": [
      "d:\\Data_science\\Projects\\kidney_disease_classification\\venv\\Lib\\site-packages\\_distutils_hack\\__init__.py:30: UserWarning: Setuptools is replacing distutils. Support for replacing an already imported distutils is deprecated. In the future, this condition will fail. Register concerns at https://github.com/pypa/setuptools/issues/new?template=distutils-deprecation.yml\n",
      "  warnings.warn(\n",
      "Successfully registered model 'VGG16Model'.\n",
      "2025/10/05 01:42:06 INFO mlflow.tracking._model_registry.client: Waiting up to 300 seconds for model version to finish creation.                     Model name: VGG16Model, version 1\n",
      "Created version '1' of model 'VGG16Model'.\n"
     ]
    }
   ],
   "source": [
    "try:\n",
    "    config = ConfigurationManager()\n",
    "    eval_config = config.get_evalution_config()\n",
    "    evaluation= Evalution(eval_config)\n",
    "    evaluation.evaluation()\n",
    "    evaluation.log_into_mlflow()\n",
    "\n",
    "except Exception as e:\n",
    "    raise e"
   ]
  },
  {
   "cell_type": "code",
   "execution_count": null,
   "id": "8a888a22",
   "metadata": {},
   "outputs": [],
   "source": []
  },
  {
   "cell_type": "code",
   "execution_count": null,
   "id": "ef90dd43",
   "metadata": {},
   "outputs": [],
   "source": []
  },
  {
   "cell_type": "code",
   "execution_count": null,
   "id": "7b4d1c17",
   "metadata": {},
   "outputs": [],
   "source": []
  },
  {
   "cell_type": "code",
   "execution_count": null,
   "id": "7998a78a",
   "metadata": {},
   "outputs": [],
   "source": []
  },
  {
   "cell_type": "code",
   "execution_count": null,
   "id": "f6aad5cd",
   "metadata": {},
   "outputs": [],
   "source": []
  }
 ],
 "metadata": {
  "kernelspec": {
   "display_name": "Python 3",
   "language": "python",
   "name": "python3"
  },
  "language_info": {
   "codemirror_mode": {
    "name": "ipython",
    "version": 3
   },
   "file_extension": ".py",
   "mimetype": "text/x-python",
   "name": "python",
   "nbconvert_exporter": "python",
   "pygments_lexer": "ipython3",
   "version": "3.11.0"
  }
 },
 "nbformat": 4,
 "nbformat_minor": 5
}
