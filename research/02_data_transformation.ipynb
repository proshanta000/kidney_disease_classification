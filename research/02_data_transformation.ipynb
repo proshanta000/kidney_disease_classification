{
 "cells": [
  {
   "cell_type": "code",
   "execution_count": 1,
   "id": "a4038eb9",
   "metadata": {},
   "outputs": [],
   "source": [
    "import os"
   ]
  },
  {
   "cell_type": "code",
   "execution_count": 2,
   "id": "12c4d705",
   "metadata": {},
   "outputs": [
    {
     "data": {
      "text/plain": [
       "'d:\\\\Data_science\\\\Projects\\\\kidney_disease_classification\\\\research'"
      ]
     },
     "execution_count": 2,
     "metadata": {},
     "output_type": "execute_result"
    }
   ],
   "source": [
    "%pwd"
   ]
  },
  {
   "cell_type": "code",
   "execution_count": 3,
   "id": "8adf6712",
   "metadata": {},
   "outputs": [],
   "source": [
    "os.chdir(\"../\")"
   ]
  },
  {
   "cell_type": "code",
   "execution_count": 4,
   "id": "60d70e93",
   "metadata": {},
   "outputs": [
    {
     "data": {
      "text/plain": [
       "'d:\\\\Data_science\\\\Projects\\\\kidney_disease_classification'"
      ]
     },
     "execution_count": 4,
     "metadata": {},
     "output_type": "execute_result"
    }
   ],
   "source": [
    "%pwd"
   ]
  },
  {
   "cell_type": "code",
   "execution_count": 5,
   "id": "131a5af6",
   "metadata": {},
   "outputs": [],
   "source": [
    "from dataclasses import dataclass\n",
    "from pathlib import Path\n",
    "\n",
    "@dataclass(frozen=True)\n",
    "class DataTransformationConfig:\n",
    "    root_dir: Path\n",
    "    data_split_dir: Path\n",
    "    train_ratio: float\n",
    "    validation_ratio: float\n",
    "    test_ratio: float\n",
    "    split_seed: int"
   ]
  },
  {
   "cell_type": "code",
   "execution_count": 6,
   "id": "3248915a",
   "metadata": {},
   "outputs": [],
   "source": [
    "from KidneyCNN.constants import *\n",
    "from KidneyCNN.utils.common import read_yaml, create_directories"
   ]
  },
  {
   "cell_type": "code",
   "execution_count": 7,
   "id": "ca943f03",
   "metadata": {},
   "outputs": [],
   "source": [
    "class ConfigurationManager:\n",
    "    def __init__(\n",
    "        self,\n",
    "        config_filepath = CONFIG_FILE_PATH,\n",
    "        params_filepath = PARAMS_FILE_PATH):\n",
    "\n",
    "        self.config = read_yaml(config_filepath)\n",
    "        self.params = read_yaml(params_filepath)\n",
    "\n",
    "        create_directories([self.config.artifacts_root])\n",
    "\n",
    "\n",
    "    \n",
    "    def get_data_transformation_config(self) -> DataTransformationConfig:\n",
    "        config = self.config.data_transformation\n",
    "        params = self.params\n",
    "\n",
    "        create_directories([config.root_dir])\n",
    "\n",
    "        data_transformation_config = DataTransformationConfig(\n",
    "            # Paths (from config.yaml)\n",
    "            # Input: Directory containing the 4 class subfolders\n",
    "            root_dir = config.root_dir,\n",
    "            data_split_dir = config.data_split_dir,\n",
    "\n",
    "            # Output: Directory where the train/val/,\n",
    "            \n",
    "            # Parameters (from params.yaml)\n",
    "            train_ratio = params.TRAIN_RATIO,\n",
    "            validation_ratio = params.VALIDATION_RATIO,\n",
    "            test_ratio = params.TEST_RATIO,\n",
    "            split_seed = params.SPLIT_SEED ,\n",
    "        )\n",
    "\n",
    "        return data_transformation_config"
   ]
  },
  {
   "cell_type": "code",
   "execution_count": 8,
   "id": "c804b020",
   "metadata": {},
   "outputs": [],
   "source": [
    "import os\n",
    "import shutil\n",
    "import random\n",
    "from pathlib import Path\n",
    "import splitfolders"
   ]
  },
  {
   "cell_type": "code",
   "execution_count": null,
   "id": "950ebc6b",
   "metadata": {},
   "outputs": [],
   "source": [
    "class DataTransformation:\n",
    "    def __init__(self, config: DataTransformationConfig):\n",
    "        self.config = config\n",
    "\n",
    "\n",
    "    def perform_split(self):\n",
    "        \"\"\"\n",
    "        Executes the stratified split using the split-folders library.\n",
    "        \"\"\"\n",
    "        \n",
    "        # 1. Prepare input and output paths\n",
    "        # Assuming the 4 class folders are directly inside the 'raw_data_dir' \n",
    "        \n",
    "        input_path = Path(self.config.root_dir) / \"dataset\" \n",
    "        \n",
    "        # Check if the input directory exists and has subfolders (classes)\n",
    "        if not input_path.exists():\n",
    "             # Using the correct Path object for checking and printing\n",
    "             print(f\"Error: Raw data directory not found at {input_path}. Ensure data ingestion ran successfully.\")\n",
    "             return\n",
    "             \n",
    "        # Ensure the output directory is created (splitfolders does this, but good practice)\n",
    "        os.makedirs(self.config.data_split_dir, exist_ok=True)\n",
    "        \n",
    "        # 2. Define ratios\n",
    "        ratios = (\n",
    "            self.config.train_ratio, \n",
    "            self.config.validation_ratio, \n",
    "            self.config.test_ratio\n",
    "        )\n",
    "\n",
    "        # 3. Perform the split\n",
    "        print(f\"Starting stratified data split (Train:{ratios[0]}, Validation:{ratios[1]}, Test:{ratios[2]})\")\n",
    "        \n",
    "        try:\n",
    "            splitfolders.ratio(\n",
    "                str(input_path), \n",
    "                output=str(self.config.data_split_dir),\n",
    "                seed=self.config.split_seed, \n",
    "                ratio=ratios,\n",
    "                group_prefix=None,\n",
    "                move=False # Set to True if you want to move files instead of copying\n",
    "            )\n",
    "            print(f\"Data split successful. New structure created in: {self.config.data_split_dir}\")\n",
    "\n",
    "        except Exception as e:\n",
    "            print(f\"An error occurred during data splitting: {e}\")"
   ]
  },
  {
   "cell_type": "code",
   "execution_count": 10,
   "id": "d2d7d3ee",
   "metadata": {},
   "outputs": [
    {
     "name": "stdout",
     "output_type": "stream",
     "text": [
      "[2025-10-04 03:42:42,845: INFO: common: yaml file: config\\config.yaml loaded successfully]\n",
      "[2025-10-04 03:42:42,851: INFO: common: yaml file: params.yaml loaded successfully]\n",
      "[2025-10-04 03:42:42,853: INFO: common: created directory at: artifacts]\n",
      "[2025-10-04 03:42:42,853: INFO: common: created directory at: artifacts/data_ingestion]\n",
      "Starting stratified data split (Train:0.7, Val:0.15, Test:0.15)\n"
     ]
    },
    {
     "name": "stderr",
     "output_type": "stream",
     "text": [
      "Copying files: 4000 files [00:44, 89.64 files/s]"
     ]
    },
    {
     "name": "stdout",
     "output_type": "stream",
     "text": [
      "Data split successful. New structure created in: artifacts/data_transformation\n"
     ]
    },
    {
     "name": "stderr",
     "output_type": "stream",
     "text": [
      "\n"
     ]
    }
   ],
   "source": [
    "try:\n",
    "    config = ConfigurationManager()\n",
    "    data_transformation_config = config.get_data_transformation_config()\n",
    "    data_transformation = DataTransformation(config=data_transformation_config)\n",
    "    data_transformation.perform_split()\n",
    "except Exception as e:\n",
    "    raise e"
   ]
  },
  {
   "cell_type": "code",
   "execution_count": null,
   "id": "045df60f",
   "metadata": {},
   "outputs": [],
   "source": []
  },
  {
   "cell_type": "code",
   "execution_count": null,
   "id": "c8a2f6b3",
   "metadata": {},
   "outputs": [],
   "source": []
  }
 ],
 "metadata": {
  "kernelspec": {
   "display_name": "Python 3",
   "language": "python",
   "name": "python3"
  },
  "language_info": {
   "codemirror_mode": {
    "name": "ipython",
    "version": 3
   },
   "file_extension": ".py",
   "mimetype": "text/x-python",
   "name": "python",
   "nbconvert_exporter": "python",
   "pygments_lexer": "ipython3",
   "version": "3.11.0"
  }
 },
 "nbformat": 4,
 "nbformat_minor": 5
}
