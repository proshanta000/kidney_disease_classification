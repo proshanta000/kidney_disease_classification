{
 "cells": [
  {
   "cell_type": "code",
   "execution_count": 1,
   "id": "f716c95d",
   "metadata": {},
   "outputs": [],
   "source": [
    "import os"
   ]
  },
  {
   "cell_type": "code",
   "execution_count": 2,
   "metadata": {},
   "outputs": [
    {
     "data": {
      "text/plain": [
       "'d:\\\\Data_science\\\\Projects\\\\kidney_disease_classification\\\\research'"
      ]
     },
     "execution_count": 2,
     "metadata": {},
     "output_type": "execute_result"
    }
   ],
   "source": [
    "%pwd"
   ]
  },
  {
   "cell_type": "code",
   "execution_count": 3,
   "metadata": {},
   "outputs": [],
   "source": [
    "os.chdir(\"../\")"
   ]
  },
  {
   "cell_type": "code",
   "execution_count": 4,
   "id": "88ee018a",
   "metadata": {},
   "outputs": [
    {
     "data": {
      "text/plain": [
       "'d:\\\\Data_science\\\\Projects\\\\kidney_disease_classification'"
      ]
     },
     "execution_count": 4,
     "metadata": {},
     "output_type": "execute_result"
    }
   ],
   "source": [
    "%pwd"
   ]
  },
  {
   "cell_type": "code",
   "execution_count": 5,
   "id": "87239b8b",
   "metadata": {},
   "outputs": [],
   "source": [
    "from dataclasses import dataclass, field\n",
    "from pathlib import Path\n",
    "from box import Box\n",
    "from typing import Dict, Any\n",
    "\n",
    "\n",
    "@dataclass(frozen=True)\n",
    "class TrainingConfig:\n",
    "    \"\"\"\n",
    "    Configuration for the model training stage.\n",
    "    \"\"\"\n",
    "    root_dir: Path  # Root directory for training artifacts\n",
    "    trained_model_path: Path  # Path to save the final trained model\n",
    "    updated_base_model_path: Path  # Path to the base model from the preparation stage\n",
    "    training_data: Path  # Path to the training dataset\n",
    "    validation_data: Path # Path to the validation dataset\n",
    "    params_epochs: int  # Number of training epochs\n",
    "    params_batch_size: int  # Number of samples per batch\n",
    "    params_is_augmentation: bool  # Flag to enable/disable data augmentation\n",
    "    params_image_size: list  # Image dimensions for training\n",
    "    params_learning_rate: float  # Learning rate for the optimizer\n",
    "    params_callbacks: Dict[str, Any]  # Dictionary of callbacks (e.g., EarlyStopping, ReduceLROnPlateau)"
   ]
  },
  {
   "cell_type": "code",
   "execution_count": 6,
   "id": "4156eb85",
   "metadata": {},
   "outputs": [],
   "source": [
    "from KidneyCNN.constants import *\n",
    "from KidneyCNN.utils.common import read_yaml, create_directories\n",
    "import tensorflow as tf\n",
    "import os\n",
    "from pathlib import Path\n",
    "# Import the Keras callbacks\n",
    "from tensorflow.keras.callbacks import EarlyStopping, ReduceLROnPlateau, ModelCheckpoint"
   ]
  },
  {
   "cell_type": "code",
   "execution_count": 7,
   "id": "3e7c46bb",
   "metadata": {},
   "outputs": [],
   "source": [
    "class ConfigurationManager:\n",
    "    def __init__(\n",
    "        self,\n",
    "        config_filepath = CONFIG_FILE_PATH,\n",
    "        params_filepath = PARAMS_FILE_PATH):\n",
    "        \n",
    "        self.config = read_yaml(config_filepath)\n",
    "        self.params = read_yaml(params_filepath)\n",
    "\n",
    "        create_directories([self.config.artifacts_root])\n",
    "\n",
    "\n",
    "    def get_training_config(self) -> TrainingConfig:\n",
    "            \"\"\"\n",
    "            Provides the configuration for the model training stage.\n",
    "            \"\"\"\n",
    "            # Get settings from main config and params files\n",
    "            training = self.config.training\n",
    "            prepare_base_model = self.config.prepare_base_model\n",
    "            params = self.params\n",
    "            \n",
    "            # Define the path to the training data directory\n",
    "            training_data = os.path.join(self.config.data_transformation.data_split_dir, \"train\")\n",
    "            # Define the path to the validation data directory\n",
    "            validation_data = os.path.join(self.config.data_transformation.data_split_dir,  \"val\")\n",
    "            \n",
    "            # Create the training artifacts directory\n",
    "            create_directories([Path(training.root_dir)])\n",
    "\n",
    "            # Instantiate the callbacks here using parameters from params.yaml\n",
    "            callbacks = {\n",
    "                \"early_stopping\": EarlyStopping(\n",
    "                    monitor=params.CALLBACKS.early_stopping.monitor,\n",
    "                    patience=params.CALLBACKS.early_stopping.patience,\n",
    "                    verbose=params.CALLBACKS.early_stopping.verbose\n",
    "                ),\n",
    "                \"model_checkpoint\": ModelCheckpoint(\n",
    "                    filepath=Path(training.trained_model_path),\n",
    "                    save_best_only=params.CALLBACKS.model_checkpoint.save_best_only,\n",
    "                    monitor=params.CALLBACKS.model_checkpoint.monitor\n",
    "                ),\n",
    "                \"reduce_lr_on_plateau\": ReduceLROnPlateau(\n",
    "                    monitor=params.CALLBACKS.reduce_lr_on_plateau.monitor,\n",
    "                    factor=params.CALLBACKS.reduce_lr_on_plateau.factor,\n",
    "                    patience=params.CALLBACKS.reduce_lr_on_plateau.patience\n",
    "                )\n",
    "            }\n",
    "            \n",
    "            # Create a TrainingConfig object with all necessary parameters\n",
    "            training_config = TrainingConfig(\n",
    "                root_dir=Path(training.root_dir),\n",
    "                trained_model_path=Path(training.trained_model_path),\n",
    "                updated_base_model_path=Path(prepare_base_model.updated_base_model_path),\n",
    "                training_data=Path(training_data),\n",
    "                validation_data=Path(validation_data),\n",
    "                params_epochs=params.EPOCHS, # Number of training epochs\n",
    "                params_batch_size=params.BATCH_SIZE, # Batch size for training\n",
    "                params_is_augmentation=params.AUGMENTATION,  # Enable/disable data augmentation\n",
    "                params_image_size=params.IMAGE_SIZE,  # Set the input image size\n",
    "                params_learning_rate=params.LEARNING_RATE,  # Define the learning rate\n",
    "                # Pass the correctly instantiated callback objects to the dataclass\n",
    "                params_callbacks=callbacks\n",
    "            )\n",
    "\n",
    "            return training_config"
   ]
  },
  {
   "cell_type": "code",
   "execution_count": 8,
   "metadata": {},
   "outputs": [],
   "source": [
    "import os\n",
    "import urllib.request as request\n",
    "from zipfile import ZipFile\n",
    "import tensorflow as tf\n",
    "from pathlib import Path"
   ]
  },
  {
   "cell_type": "code",
   "execution_count": 9,
   "id": "c983dbd1",
   "metadata": {},
   "outputs": [],
   "source": [
    "class Training:\n",
    "    def __init__(self, config: TrainingConfig):\n",
    "        self.config = config\n",
    "\n",
    "\n",
    "    def get_base_model(self):\n",
    "        self.model = tf.keras.models.load_model(\n",
    "            self.config.updated_base_model_path\n",
    "        )\n",
    "\n",
    "    # This method is for compiling the model with an optimizer and loss function.\n",
    "    def compile_model(self):\n",
    "        # The .compile() method configures the model for training.\n",
    "        self.model.compile(\n",
    "            # The optimizer updates the model based on the data and the loss function.\n",
    "            # Here, we use Stochastic Gradient Descent (SGD) with the learning rate from the config.\n",
    "            optimizer = tf.keras.optimizers.SGD(learning_rate=self.config.params_learning_rate),\n",
    "            # The loss function measures how accurate the model is.\n",
    "            # CategoricalCrossentropy is suitable for multi-class classification problems.\n",
    "            loss = tf.keras.losses.CategoricalCrossentropy(),\n",
    "            # The metrics list is used to monitor the training and testing steps.\n",
    "            # \"accuracy\" is a common metric to track model performance.\n",
    "            metrics=[\"accuracy\"]\n",
    "        )\n",
    "\n",
    "    def train_valid_generator(self):\n",
    "        # This method prepares and configures data generators for training and validation.\n",
    "        # Data generators load images from disk and apply transformations on the fly,\n",
    "        # which is memory-efficient for large datasets.\n",
    "\n",
    "        # Arguments for the ImageDataGenerator.\n",
    "        # `rescale` normalizes pixel values to the range [0, 1].\n",
    "        # `validation_split` reserves a portion of the data for validation.\n",
    "        datagenerator_kwargs = dict(\n",
    "            rescale = 1./255,\n",
    "            validation_split=0.20\n",
    "        )\n",
    "\n",
    "        # Arguments for the .flow_from_directory() method.\n",
    "        # `target_size` resizes all images to the specified dimensions.\n",
    "        # `batch_size` is the number of images to be yielded from the generator.\n",
    "        # `interpolation` defines the method for resizing images.\n",
    "        dataflow_kwargs = dict(\n",
    "            target_size = self.config.params_image_size[:-1],\n",
    "            batch_size = self.config.params_batch_size,\n",
    "            interpolation = \"bilinear\"\n",
    "        )\n",
    "\n",
    "        # Create an ImageDataGenerator instance with the defined arguments.\n",
    "        valid_datagenerator = tf.keras.preprocessing.image.ImageDataGenerator(\n",
    "            **datagenerator_kwargs\n",
    "        )\n",
    "\n",
    "        # Verify that the training and validation data directories exist before proceeding.\n",
    "        if not os.path.exists(self.config.training_data):\n",
    "            raise FileNotFoundError(f\"Training data directory not found at: {self.config.training_data}\")\n",
    "        \n",
    "        if not os.path.exists(self.config.validation_data):\n",
    "            raise FileNotFoundError(f\"Validation data directory not found at: {self.config.validation_data}\")\n",
    "\n",
    "\n",
    "        # The training data is assumed to be in the 'train' folder\n",
    "        # The validation data is assumed to be in the 'valid' folder\n",
    "        self.train_generator = valid_datagenerator.flow_from_directory(\n",
    "            directory = self.config.training_data,\n",
    "            subset=\"training\",\n",
    "            shuffle=True,\n",
    "            **dataflow_kwargs\n",
    "        )\n",
    "\n",
    "        # Correctly pointing to the separate validation data directory\n",
    "        self.valid_generator = valid_datagenerator.flow_from_directory(\n",
    "            directory=self.config.validation_data,\n",
    "            subset=\"validation\",\n",
    "            shuffle=False,\n",
    "            **dataflow_kwargs\n",
    "        )\n",
    "\n",
    "        \n",
    "    @staticmethod\n",
    "    def save_model(path: Path, model: tf.keras.Model):\n",
    "        model.save(path)\n",
    "\n",
    "\n",
    "    def train(self):\n",
    "        # Load the base model first\n",
    "        self.get_base_model()\n",
    "        # Compile the model with an optimizer, loss, and metrics\n",
    "        self.compile_model()\n",
    "        # Prepare the data generators\n",
    "        self.train_valid_generator()\n",
    "        \n",
    "        history = self.model.fit(\n",
    "            self.train_generator,\n",
    "            epochs=self.config.params_epochs,\n",
    "            validation_data=self.valid_generator,\n",
    "            callbacks=list(self.config.params_callbacks.values())\n",
    "        )\n",
    "        self.save_model(\n",
    "            path=self.config.trained_model_path,\n",
    "            model=self.model\n",
    "        )"
   ]
  },
  {
   "cell_type": "code",
   "execution_count": 10,
   "id": "3b97a9e1",
   "metadata": {},
   "outputs": [
    {
     "name": "stdout",
     "output_type": "stream",
     "text": [
      "[2025-10-04 23:47:08,648: INFO: common: yaml file: config\\config.yaml loaded successfully]\n",
      "[2025-10-04 23:47:08,656: INFO: common: yaml file: params.yaml loaded successfully]\n",
      "[2025-10-04 23:47:08,659: INFO: common: created directory at: artifacts]\n",
      "[2025-10-04 23:47:08,659: INFO: common: created directory at: artifacts\\training]\n",
      "Found 3360 images belonging to 4 classes.\n",
      "Found 180 images belonging to 4 classes.\n",
      "Found 3360 images belonging to 4 classes.\n",
      "Found 180 images belonging to 4 classes.\n",
      "210/210 [==============================] - 748s 4s/step - loss: 14.2374 - accuracy: 0.3902 - val_loss: 7.9576 - val_accuracy: 0.4500 - lr: 0.0100\n"
     ]
    }
   ],
   "source": [
    "try:\n",
    "    # Create an instance of the ConfigurationManager to get configurations\n",
    "    config = ConfigurationManager()\n",
    "    \n",
    "    # Get the specific configuration for the 'Training' component\n",
    "    training_config = config.get_training_config()\n",
    "    \n",
    "    # Instantiate the Training component with the fetched configuration\n",
    "    training = Training(config=training_config)\n",
    "    \n",
    "    # 1. Load the model's architecture and weights. This model has been\n",
    "    #    prepared in a previous stage (PrepareBaseModel).\n",
    "    training.get_base_model() \n",
    "    \n",
    "    # 2. Re-compile the model. This is the crucial step because the optimizer's\n",
    "    #    state is not saved with the model architecture. Compiling here\n",
    "    #    ensures the model is ready for training.\n",
    "    training.compile_model() \n",
    "    \n",
    "    # 3. Set up the data generators. This handles data loading, preprocessing,\n",
    "    #    and augmentation for both the training and validation sets.\n",
    "    training.train_valid_generator()\n",
    "    \n",
    "    # 4. Start the training process. The model will now be trained on the\n",
    "    #    prepared data using the specified epochs, batch size, and callbacks.\n",
    "    training.train()\n",
    "    \n",
    "except Exception as e:\n",
    "    raise e"
   ]
  },
  {
   "cell_type": "code",
   "execution_count": null,
   "id": "1f258bd7",
   "metadata": {},
   "outputs": [],
   "source": []
  },
  {
   "cell_type": "code",
   "execution_count": null,
   "id": "331d9827",
   "metadata": {},
   "outputs": [],
   "source": []
  },
  {
   "cell_type": "code",
   "execution_count": null,
   "id": "d1a2218b",
   "metadata": {},
   "outputs": [],
   "source": []
  },
  {
   "cell_type": "code",
   "execution_count": null,
   "id": "0ff7dbd8",
   "metadata": {},
   "outputs": [],
   "source": []
  },
  {
   "cell_type": "code",
   "execution_count": null,
   "id": "e47022e1",
   "metadata": {},
   "outputs": [],
   "source": []
  },
  {
   "cell_type": "code",
   "execution_count": null,
   "id": "7b8a5350",
   "metadata": {},
   "outputs": [],
   "source": []
  }
 ],
 "metadata": {
  "kernelspec": {
   "display_name": "Python 3",
   "language": "python",
   "name": "python3"
  },
  "language_info": {
   "codemirror_mode": {
    "name": "ipython",
    "version": 3
   },
   "file_extension": ".py",
   "mimetype": "text/x-python",
   "name": "python",
   "nbconvert_exporter": "python",
   "pygments_lexer": "ipython3",
   "version": "3.11.0"
  }
 },
 "nbformat": 4,
 "nbformat_minor": 5
}
